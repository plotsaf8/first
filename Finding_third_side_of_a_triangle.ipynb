{
  "nbformat": 4,
  "nbformat_minor": 0,
  "metadata": {
    "colab": {
      "provenance": [],
      "authorship_tag": "ABX9TyOrf8O78mNpu6yE35MU1eMW",
      "include_colab_link": true
    },
    "kernelspec": {
      "name": "python3",
      "display_name": "Python 3"
    },
    "language_info": {
      "name": "python"
    }
  },
  "cells": [
    {
      "cell_type": "markdown",
      "metadata": {
        "id": "view-in-github",
        "colab_type": "text"
      },
      "source": [
        "<a href=\"https://colab.research.google.com/github/plotsaf8/first/blob/main/Finding_third_side_of_a_triangle.ipynb\" target=\"_parent\"><img src=\"https://colab.research.google.com/assets/colab-badge.svg\" alt=\"Open In Colab\"/></a>"
      ]
    },
    {
      "cell_type": "code",
      "execution_count": null,
      "metadata": {
        "colab": {
          "base_uri": "https://localhost:8080/"
        },
        "id": "lnJp902bw5NY",
        "outputId": "363883fb-591a-468e-bd6b-0d4146af1bd7"
      },
      "outputs": [
        {
          "output_type": "stream",
          "name": "stdout",
          "text": [
            "\u001b[31mERROR: Could not find a version that satisfies the requirement math (from versions: none)\u001b[0m\u001b[31m\n",
            "\u001b[0m\u001b[31mERROR: No matching distribution found for math\u001b[0m\u001b[31m\n",
            "\u001b[0mВведите длину первой стороны:\n",
            "13\n",
            "Введите длину второй стороны:\n",
            "30\n",
            "Введите угол между этими сторонами в градусах:\n",
            "100\n",
            "c = 34.70512323245958\n"
          ]
        }
      ],
      "source": [
        "!pip install math\n",
        "import math\n",
        "#Вводим длину первой стороны\n",
        "print (\"Введите длину первой стороны:\")\n",
        "a = float(input())\n",
        "#Вводим длину второй стороны\n",
        "print (\"Введите длину второй стороны:\")\n",
        "b = float(input())\n",
        "#Вводим угол между ними в градусах\n",
        "print (\"Введите угол между этими сторонами в градусах:\")\n",
        "angle = float(input())\n",
        "#Находим третью сторону треугольника по теореме косинусов\n",
        "c = math.sqrt(a**2 + b**2 - 2*a*b*math.cos(math.radians(angle)))\n",
        "print (\"c =\", c)"
      ]
    }
  ]
}