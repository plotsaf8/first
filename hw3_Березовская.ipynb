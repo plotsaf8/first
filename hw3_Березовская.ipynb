{
  "nbformat": 4,
  "nbformat_minor": 0,
  "metadata": {
    "colab": {
      "provenance": [],
      "authorship_tag": "ABX9TyOd8QXCp6m4stWV8Uo6Ao+C",
      "include_colab_link": true
    },
    "kernelspec": {
      "name": "python3",
      "display_name": "Python 3"
    },
    "language_info": {
      "name": "python"
    }
  },
  "cells": [
    {
      "cell_type": "markdown",
      "metadata": {
        "id": "view-in-github",
        "colab_type": "text"
      },
      "source": [
        "<a href=\"https://colab.research.google.com/github/plotsaf8/first/blob/main/hw3_%D0%91%D0%B5%D1%80%D0%B5%D0%B7%D0%BE%D0%B2%D1%81%D0%BA%D0%B0%D1%8F.ipynb\" target=\"_parent\"><img src=\"https://colab.research.google.com/assets/colab-badge.svg\" alt=\"Open In Colab\"/></a>"
      ]
    },
    {
      "cell_type": "code",
      "execution_count": 1,
      "metadata": {
        "colab": {
          "base_uri": "https://localhost:8080/"
        },
        "id": "xTQwwBN39nmX",
        "outputId": "00534423-e1c8-4ae8-e4ca-000ac101b1cd"
      },
      "outputs": [
        {
          "output_type": "stream",
          "name": "stdout",
          "text": [
            "Введите температуру в градусах Цельсия (например, 12C) или Фаренгейта (например, 100F): \n",
            "67C\n",
            "Температура в градусах Фаренгейта: 152.6F\n"
          ]
        }
      ],
      "source": [
        "#Запрашиваем у пользователя ввод температуры\n",
        "print(\"Введите температуру в градусах Цельсия (например, 12C) или Фаренгейта (например, 100F): \")\n",
        "temperature = input()\n",
        "\n",
        "#Проверяем, заканчивается ли ввод на 'C' или 'F'\n",
        "if temperature[-1] not in [\"C\", \"F\"]:\n",
        "    #Если нет, выводим сообщение об ошибке\n",
        "    print(\"Ввод должен заканчиваться на C или F. Попробуйте еще раз.\")\n",
        "else:\n",
        "    #Если ввод заканчивается на 'C', выполняем преобразование в Фаренгейты\n",
        "    if temperature[-1] == \"C\":\n",
        "        #Удаляем последнюю букву ('C') и переводим температуру в Фаренгейты\n",
        "        result = str(int(temperature[:-1]) * 9 / 5 + 32) + \"F\"\n",
        "        #Выводим результат\n",
        "        print(\"Температура в градусах Фаренгейта:\", result)\n",
        "    else:\n",
        "        #Если ввод заканчивается на 'F', выполняем преобразование в Цельсии\n",
        "        result = str((int(temperature[:-1]) - 32) * 5 / 9) + \"C\"\n",
        "        #Выводим результат\n",
        "        print(\"Температура в градусах Цельсия:\", result)"
      ]
    }
  ]
}