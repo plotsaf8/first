{
  "nbformat": 4,
  "nbformat_minor": 0,
  "metadata": {
    "colab": {
      "provenance": [],
      "authorship_tag": "ABX9TyNVsvlIpNOLFyzkP06VgjsB",
      "include_colab_link": true
    },
    "kernelspec": {
      "name": "python3",
      "display_name": "Python 3"
    },
    "language_info": {
      "name": "python"
    }
  },
  "cells": [
    {
      "cell_type": "markdown",
      "metadata": {
        "id": "view-in-github",
        "colab_type": "text"
      },
      "source": [
        "<a href=\"https://colab.research.google.com/github/plotsaf8/first/blob/main/hw4_%D0%91%D0%B5%D1%80%D0%B5%D0%B7%D0%BE%D0%B2%D1%81%D0%BA%D0%B0%D1%8F.ipynb\" target=\"_parent\"><img src=\"https://colab.research.google.com/assets/colab-badge.svg\" alt=\"Open In Colab\"/></a>"
      ]
    },
    {
      "cell_type": "code",
      "execution_count": 3,
      "metadata": {
        "colab": {
          "base_uri": "https://localhost:8080/"
        },
        "id": "DzfaynT68oPZ",
        "outputId": "c5db9734-feed-4e73-fb59-5ffad50b6b5e"
      },
      "outputs": [
        {
          "output_type": "stream",
          "name": "stdout",
          "text": [
            "Введите число N = 11\n",
            "[2, 3, 4, 5, 6, 7, 8, 9, 10, 11]\n",
            "[2, 3, 5, 6, 7, 8, 9, 10, 11]\n",
            "[2, 3, 5, 7, 8, 9, 10, 11]\n",
            "[2, 3, 5, 7, 9, 10, 11]\n",
            "[2, 3, 5, 7, 9, 11]\n",
            "[2, 3, 5, 7, 11]\n",
            "2\n",
            "3\n",
            "5\n",
            "7\n",
            "11\n"
          ]
        }
      ],
      "source": [
        "#пользователь задает число N\n",
        "\n",
        "N = int(input('Введите число N = '))\n",
        "\n",
        "#обработка некорректного ввода пользователя\n",
        "\n",
        "while N <= 2:\n",
        "  print('Число N должно быть больше 2. Повторите ввод.')\n",
        "  N = int(input('N = '))\n",
        "\n",
        "#создаем список от 2 до N\n",
        "\n",
        "p = 2\n",
        "all_digits = list(range(p, N+1))\n",
        "print(all_digits)\n",
        "\n",
        "#оставляем в списке только простые числа\n",
        "\n",
        "while p**2 < all_digits[-1]:\n",
        "    for digit in all_digits:\n",
        "      if digit % p == 0 and digit != p:\n",
        "        all_digits.remove(digit)\n",
        "        print(all_digits)\n",
        "\n",
        "    for x in all_digits:\n",
        "      if x > p:\n",
        "        p = x\n",
        "        break\n",
        "\n",
        "#вывод найденных простых чисел в отдельную строку\n",
        "\n",
        "    if p**2 > all_digits[-1]:\n",
        "      for i in all_digits:\n",
        "        print(i)"
      ]
    }
  ]
}