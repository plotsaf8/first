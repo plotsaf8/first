{
  "nbformat": 4,
  "nbformat_minor": 0,
  "metadata": {
    "colab": {
      "provenance": [],
      "authorship_tag": "ABX9TyO9plwR8tn9YTvtfVyJ1/h0",
      "include_colab_link": true
    },
    "kernelspec": {
      "name": "python3",
      "display_name": "Python 3"
    },
    "language_info": {
      "name": "python"
    }
  },
  "cells": [
    {
      "cell_type": "markdown",
      "metadata": {
        "id": "view-in-github",
        "colab_type": "text"
      },
      "source": [
        "<a href=\"https://colab.research.google.com/github/plotsaf8/first/blob/main/hw2_%D0%91%D0%B5%D1%80%D0%B5%D0%B7%D0%BE%D0%B2%D1%81%D0%BA%D0%B0%D1%8F.ipynb\" target=\"_parent\"><img src=\"https://colab.research.google.com/assets/colab-badge.svg\" alt=\"Open In Colab\"/></a>"
      ]
    },
    {
      "cell_type": "code",
      "execution_count": 2,
      "metadata": {
        "colab": {
          "base_uri": "https://localhost:8080/"
        },
        "id": "-zd-j4ynpgeg",
        "outputId": "373dce7c-51b3-42f9-f345-c1c3eaecf918"
      },
      "outputs": [
        {
          "output_type": "stream",
          "name": "stdout",
          "text": [
            "Введите число от 0 до 99: 59\n",
            "пятьдесят девять\n"
          ]
        }
      ],
      "source": [
        "num_dict = {\n",
        "    0: \"ноль\", 1: \"один\", 2: \"два\", 3: \"три\", 4: \"четыре\", 5: \"пять\", 6: \"шесть\",\n",
        "    7: \"семь\", 8: \"восемь\", 9: \"девять\", 10: \"десять\", 11: \"одиннадцать\",\n",
        "    12: \"двенадцать\", 13: \"тринадцать\", 14: \"четырнадцать\", 15: \"пятнадцать\",\n",
        "    16: \"шестнадцать\", 17: \"семнадцать\", 18: \"восемнадцать\", 19: \"девятнадцать\",\n",
        "    20: \"двадцать\", 30: \"тридцать\", 40: \"сорок\", 50: \"пятьдесят\",\n",
        "    60: \"шестьдесят\", 70: \"семьдесят\", 80: \"восемьдесят\", 90: \"девяносто\"\n",
        "}\n",
        "\n",
        "user_input = input('Введите число от 0 до 99: ')\n",
        "\n",
        "try:\n",
        "    num = int(user_input)\n",
        "\n",
        "    if 0 <= num <= 99:\n",
        "        if num in num_dict:\n",
        "            print(num_dict[num])\n",
        "        else:\n",
        "            tens = num - (num % 10)\n",
        "            ones = num % 10\n",
        "            print(num_dict[tens] + \" \" + num_dict[ones])\n",
        "    else:\n",
        "        print('Введите число')\n",
        "except ValueError:\n",
        "    print('Введите число')"
      ]
    }
  ]
}